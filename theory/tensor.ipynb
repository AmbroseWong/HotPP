{
 "cells": [
  {
   "cell_type": "code",
   "execution_count": 2,
   "metadata": {},
   "outputs": [],
   "source": [
    "import numpy as np\n",
    "from scipy.stats import special_ortho_group\n",
    "import itertools\n",
    "\n",
    "np.random.seed(0)\n",
    "d = 2\n",
    "seed = 0"
   ]
  },
  {
   "cell_type": "markdown",
   "metadata": {},
   "source": [
    "n way/mode Tensor:  \n",
    "$\\mathcal{T}_{{i_1}\\cdots{i_n}} \\to \\mathcal{T'}_{{i_1}\\cdots{i_n}} = (R_{{i_1}{j_1}})\\cdots(R_{{i_n}{j_n}})\\mathcal{T}_{j_1}\\cdots{j_n}$  \n",
    "\n",
    " $v$ is a d dimension vector, to get n way tensor ($R^d \\to (R^d)^n$)  \n",
    "funtion multi_outer:  \n",
    " $\\mathcal{T} = v \\circ v \\circ \\cdots \\circ v$  \n",
    "It is obviously that $\\mathcal{T}$ is a n way Tensor:"
   ]
  },
  {
   "cell_type": "code",
   "execution_count": 3,
   "metadata": {},
   "outputs": [
    {
     "name": "stdout",
     "output_type": "stream",
     "text": [
      "True\n"
     ]
    }
   ],
   "source": [
    "def multi_outer(v, n):\n",
    "    out = v.copy()\n",
    "    for _ in range(n - 1):\n",
    "        out = out[..., None] * v\n",
    "    return out\n",
    "\n",
    "n = 4\n",
    "v1 = np.random.randn(d)\n",
    "T1 = multi_outer(v1, n)\n",
    "\n",
    "R = special_ortho_group.rvs(dim=d)\n",
    "v2 = R @ v1 \n",
    "T2 = multi_outer(v2, n)\n",
    "\n",
    "ranges = [[i for i in range(d)] for _ in range(n)]\n",
    "T3 = np.zeros_like(T2)\n",
    "for indices_i in itertools.product(*ranges):\n",
    "    for indices_j in itertools.product(*ranges):\n",
    "        T3[indices_i] += np.prod(R[indices_i, indices_j]) * T1[indices_j]\n",
    "\n",
    "print(np.allclose(T2, T3, rtol=1e-8))\n"
   ]
  },
  {
   "cell_type": "markdown",
   "metadata": {},
   "source": [
    "Similar to MTP, we can use a symmetric matrix to connect Tensors:  \n",
    "  $f(\\mathcal{T}_1, \\mathcal{T}_1, \\cdots) = \\mathcal{T'}$  \n",
    "For example, given:  \n",
    "\n",
    "  $M = \\begin{bmatrix} 0 &1 &1 \\\\1 &0 &2 \\\\ 1 &2 &0 \\end{bmatrix} $ \n",
    "\n",
    "This correspond to three tensors (sum of the row): 2 way $\\mathcal{T^1}$, 3 way $\\mathcal{T^2}$, and 3 way $\\mathcal{T^2}$\n",
    "\n",
    "We can use part of the matrix such as the first two rows of M with 4 independent indices:\n",
    "\n",
    "  $M_1 = \\begin{bmatrix} 0 &x_1 &x_2 \\\\x_1 &0 &(x_3, x_4) \\end{bmatrix} $ \n",
    "\n",
    "Then, we can connect a 2 way $\\mathcal{T^1}$ and 3 way $\\mathcal{T^2}$ and get a 3 way $\\mathcal{T^{1\\bigotimes2}}$ as:  \n",
    "  $\\mathcal{T^{1\\bigotimes2}}_{{x_2}{x_3}{x_4}} = \\mathcal{T^1}_{{x_1}{x_2}} \\cdot \\mathcal{T^2}_{{x_1}{x_3}{x_4}} $  \n",
    "It is obviously that:\n",
    "  $\\mathcal{T^1}_{{x_1}{x_2}} \\cdot \\mathcal{T^2}_{{x_1}{x_3}{x_4}} \\to (R_{{x_1}{y_1}})(R_{{x_2}{y_2}})\\mathcal{T^1}_{{y_1}{y_2}}\\cdot(R_{{x_1}{y_3}})(R_{{x_3}{y_4}})(R_{{x_4}{y_5}})\\mathcal{T^2}_{{y_3}{y_4}{y_5}} $  \n",
    "Noted that:  \n",
    "  $(R_{{x_1}{y_1}})(R_{{x_1}{y_3}}) = \\delta_{{y_1}{y_3}}$  \n",
    "We have:  \n",
    "$\\mathcal{T^1}_{{x_1}{x_2}} \\cdot \\mathcal{T^2}_{{x_1}{x_3}{x_4}} \\to (R_{{x_2}{y_2}})\\mathcal{T^1}_{{y_1}{y_2}}\\cdot(R_{{x_3}{y_4}})(R_{{x_4}{y_5}})\\mathcal{T^2}_{{y_1}{y_4}{y_5}} $ \n",
    "\n",
    "And:  \n",
    " $\\mathcal{T^{1\\bigotimes2}}_{{x_2}{x_3}{x_4}} \\to (R_{{x_2}{y_2}})(R_{{x_3}{y_3}})(R_{{x_4}{y_4}})\\mathcal{T^{1\\bigotimes2}}_{{y_2}{y_3}{y_4}}$\n",
    "\n",
    " The mode of new tensor is sum of the unused tensor (1 + 2 + 0 for above example)\n",
    "\n",
    "If we use the last two row:  \n",
    "  $M_1 = \\begin{bmatrix} x_1 &0 &(x_3, x_4) \\\\x_2 &(x_3, x_4) & 0 \\end{bmatrix} $  \n",
    "   \n",
    "We have:\n",
    "  $\\mathcal{T^{2\\bigotimes3}}_{{x_1}{x_2}} = \\mathcal{T^2}_{{x_1}{x_3}{x_4}} \\cdot \\mathcal{T^3}_{{x_2}{x_3}{x_4}} $  \n",
    "\n",
    "It is easy to see it is a 2 way tensor (1 + 1 + 0).\n",
    "\n",
    "To simplify the connect, if we have a x way tensor $\\mathcal{T^1}$ and a y way tensor $\\mathcal{T^2}$, we use the last two row of :   \n",
    "$M = \\begin{bmatrix} 0 & x - z & y - z \\\\x - z &0 &z \\\\ y - z &z &0 \\end{bmatrix} $,  \n",
    " where $z \\leq min(x, y)$ to connect them and the new\n",
    "$\\mathcal{T^{1\\bigotimes2}}$ has way $x + y - 2z$  \n",
    "Or:  \n",
    "\n",
    "$\\mathcal{T^{1\\bigotimes2}}_{{a_1}\\cdots{a_{x-z}}{b_1}\\cdots{b_{y-z}}} = \\mathcal{T^1}_{{a_1}\\cdots{a_{x-z}}{c_1}\\cdots{c_{z}}}\\cdot\\mathcal{T^2}_{{c_1}\\cdots{c_{z}}{b_1}\\cdots{b_{y-z}}}$\n"
   ]
  },
  {
   "cell_type": "markdown",
   "metadata": {},
   "source": [
    "We firt check the new tensor got by matrix is same as the definition.  \n",
    "We first expand $\\mathcal{T^1}$ to way: $x + y - z$, we will have:  \n",
    "$\\mathcal{T}_{{a_1}\\cdots{a_{x-z}}{c_1}\\cdots{c_{z}}{b_1}\\cdots{b_{y-z}}}$  \n",
    "the new (or none when $y=z$) axis will repeat when multiplied by $\\mathcal{T^2}$ with the broadcast in numpy.  \n",
    "And we sum up the x-z way to z way"
   ]
  },
  {
   "cell_type": "code",
   "execution_count": 22,
   "metadata": {},
   "outputs": [
    {
     "name": "stdout",
     "output_type": "stream",
     "text": [
      "True\n",
      "True\n"
     ]
    }
   ],
   "source": [
    "\n",
    "def tensor_connect(T1, T2, z):\n",
    "    way1, way2 = len(T1.shape), len(T2.shape)\n",
    "    T = T1.copy()\n",
    "    while len(T.shape) < way1 + way2 - z:\n",
    "        T = np.expand_dims(T, -1)\n",
    "    T = np.sum(T * T2, axis=tuple([i for i in range(way1 - z, way1)]))\n",
    "    return T\n",
    "\n",
    "\n",
    "def tensor_connect_definition(T1, T2, z):\n",
    "    shape1, shape2 = T1.shape, T2.shape\n",
    "    way1, way2 = len(shape1), len(shape2)\n",
    "    shape3 = (*shape1[:way1-z], *shape2[:way2-z])  # The shape of the new tensor\n",
    "\n",
    "    T = np.zeros(shape3)\n",
    "    ranges  = [[i for i in range(n)] for n in T.shape]  \n",
    "    ranges1 = [[i for i in range(n)] for n in T1.shape[way1-z:]]  \n",
    "    for indices in itertools.product(*ranges):     # a_1 ... a_{x-z} b_1 ... b_{y-z} \n",
    "        for ii in itertools.product(*ranges1):     # c_1 ... c_z\n",
    "            i1 = (*indices[:way1-z], *ii)          # a_1 ... a_{x-z}  c_1 ... c_z\n",
    "            i2 = (*ii, *indices[way1-z:])          # c_1 ... c_z  b_1 ... b_{y-z}  \n",
    "            T[indices] += T1[i1] * T2[i2]\n",
    "    return T\n",
    "\n",
    "T1 = np.random.randn(3, 3, 3, 3)\n",
    "T2 = np.random.randn(3, 3, 3)\n",
    "\n",
    "for z in range(4):\n",
    "    a = tensor_connect(T1, T2, z)\n",
    "    b = tensor_connect_definition(T1, T2, z)\n",
    "    if not np.allclose(a, b, rtol=1e-8):\n",
    "        print(False)\n",
    "else:\n",
    "    print(True)\n",
    "    \n",
    "T1 = np.random.randn(3, 3, 3)\n",
    "T2 = np.random.randn(3, 3, 3, 3)\n",
    "\n",
    "for z in range(4):\n",
    "    a = tensor_connect(T1, T2, z)\n",
    "    b = tensor_connect_definition(T1, T2, z)\n",
    "    if not np.allclose(a, b, rtol=1e-8):\n",
    "        print(False)\n",
    "else:\n",
    "    print(True)"
   ]
  },
  {
   "cell_type": "code",
   "execution_count": null,
   "metadata": {},
   "outputs": [],
   "source": [
    "from tensornet.utils import expand_to\n",
    "import torch\n",
    "import opt_einsum as oe\n",
    "import time\n",
    "\n",
    "def method1(input_tensor, filter_tensor, coupling_way):\n",
    "    in_way = len(input_tensor.shape) - 4\n",
    "    r_way = len(filter_tensor.shape) - 3\n",
    "    n_way = in_way + r_way - coupling_way + 4\n",
    "    input_tensor  = expand_to(input_tensor, n_way, dim=-1)\n",
    "    filter_tensor = expand_to(filter_tensor, n_way, dim=3)\n",
    "\n",
    "    sum_axis = [2] + [i for i in range(in_way - coupling_way + 4, in_way + 4)]\n",
    "    output_tensor = torch.sum(input_tensor * filter_tensor, dim=sum_axis)\n",
    "    return output_tensor\n",
    "\n",
    "\n",
    "def method2(input_tensor, filter_tensor, coupling_way):\n",
    "    in_way = len(input_tensor.shape) - 4\n",
    "    r_way = len(filter_tensor.shape) - 3\n",
    "    input_indices = [i for i in range(4, 4 + in_way - coupling_way)]\n",
    "    coupling_indices = [i for i in range(4 + in_way - coupling_way, 4 + in_way)]\n",
    "    filter_indices = [i for i in range(4 + in_way, 4 + in_way + r_way - coupling_way)]\n",
    "    \n",
    "    input_subscripts = [0, 1, 2, 3] + input_indices + coupling_indices\n",
    "    filter_subscripts = [0, 1, 2] + coupling_indices + filter_indices\n",
    "    output_subscripts = [0, 1, 3] + input_indices + filter_indices\n",
    "    output_tensor = oe.contract(input_tensor, input_subscripts, filter_tensor, filter_subscripts, output_subscripts)\n",
    "    return output_tensor\n",
    "\n",
    "N = 10\n",
    "nb, na, nn, nc, nd = 32, 64, 30, 64, 3\n",
    "input_tensor = torch.randn(nb, na, nn, nc, )\n",
    "filter_tensor = torch.randn(nb, na, nn, nd, nd)\n",
    "coupling_way = 0\n",
    "t = time.time()\n",
    "for _ in range(N):\n",
    "    x = method1(input_tensor, filter_tensor, coupling_way)\n",
    "print(time.time() - t)\n",
    "t = time.time()\n",
    "for _ in range(N):\n",
    "    y = method2(input_tensor, filter_tensor, coupling_way)\n",
    "print(time.time() - t)"
   ]
  },
  {
   "cell_type": "markdown",
   "metadata": {},
   "source": [
    "We can now define $F_n(r) \\equiv f_n(r)\\cdot r^{\\bigotimes n}$ and use: \n",
    "${^n_i}T' = \\sum\\limits_{m, z} \\sum\\limits_{j\\in \\mathcal{N}(i)}{^m_j}\\mathcal{T} \\bigotimes^z F_{n-m+2z}(r) $\n",
    "to update the n way tensors on the atoms *i*.  \n",
    "\n",
    "We can check that the combinition of these tensors are equivalent to SO(n)"
   ]
  },
  {
   "cell_type": "code",
   "execution_count": 18,
   "metadata": {},
   "outputs": [
    {
     "name": "stdout",
     "output_type": "stream",
     "text": [
      "1.3096723705530167e-10\n"
     ]
    }
   ],
   "source": [
    "d = 4\n",
    "\n",
    "def f(u, v):\n",
    "    T1 = multi_outer(u, 4)\n",
    "    T2 = multi_outer(v, 3)\n",
    "    T3 = tensor_connect(T1, T2, 2)  # 3\n",
    "    T4 = tensor_connect(T2, T3, 2)  # 2\n",
    "    T5 = tensor_connect(T1, T4, 2)  # 2\n",
    "    T6 = tensor_connect(T4, T5, 2)  # 0\n",
    "    return T6\n",
    "\n",
    "u = np.random.randn(d)\n",
    "v = np.random.randn(d)\n",
    "x = f(u, v)\n",
    "R = special_ortho_group.rvs(dim=d)\n",
    "u = R @ u\n",
    "v = R @ v\n",
    "y = f(u, v)\n",
    "\n",
    "print(x - y)"
   ]
  },
  {
   "cell_type": "code",
   "execution_count": 19,
   "metadata": {},
   "outputs": [
    {
     "name": "stdout",
     "output_type": "stream",
     "text": [
      "[ 1.38555833e-13  5.11590770e-13 -1.27897692e-13 -1.27897692e-13\n",
      " -5.96855898e-13]\n"
     ]
    }
   ],
   "source": [
    "d = 5\n",
    "\n",
    "def f(u, v):\n",
    "    T1 = multi_outer(u, 4)\n",
    "    T2 = multi_outer(v, 3)\n",
    "    T3 = tensor_connect(T1, T2, 2)  # 3\n",
    "    T4 = tensor_connect(T2, T3, 2)  # 2\n",
    "    T5 = tensor_connect(T1, T4, 2)  # 2\n",
    "    T6 = tensor_connect(T5, u , 1)  # 1\n",
    "    return T6\n",
    "\n",
    "u = np.random.randn(d)\n",
    "v = np.random.randn(d)\n",
    "x = f(u, v)\n",
    "R = special_ortho_group.rvs(dim=d)\n",
    "u = R @ u\n",
    "v = R @ v\n",
    "y = f(u, v)\n",
    "\n",
    "print(R @ x - y)"
   ]
  }
 ],
 "metadata": {
  "kernelspec": {
   "display_name": "Python 3.8.10 64-bit",
   "language": "python",
   "name": "python3"
  },
  "language_info": {
   "codemirror_mode": {
    "name": "ipython",
    "version": 3
   },
   "file_extension": ".py",
   "mimetype": "text/x-python",
   "name": "python",
   "nbconvert_exporter": "python",
   "pygments_lexer": "ipython3",
   "version": "3.8.10 (default, Nov 26 2021, 20:14:08) \n[GCC 9.3.0]"
  },
  "orig_nbformat": 4,
  "vscode": {
   "interpreter": {
    "hash": "916dbcbb3f70747c44a77c7bcd40155683ae19c65e1c03b4aa3499c5328201f1"
   }
  }
 },
 "nbformat": 4,
 "nbformat_minor": 2
}
